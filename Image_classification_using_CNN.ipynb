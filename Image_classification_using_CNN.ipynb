{
  "nbformat": 4,
  "nbformat_minor": 0,
  "metadata": {
    "colab": {
      "name": "Image classification using CNN.ipynb",
      "provenance": [],
      "collapsed_sections": []
    },
    "kernelspec": {
      "name": "python3",
      "display_name": "Python 3"
    }
  },
  "cells": [
    {
      "cell_type": "code",
      "metadata": {
        "id": "9mrWmXXuM5TH"
      },
      "source": [
        "#Simple Image classification using CNN"
      ],
      "execution_count": null,
      "outputs": []
    },
    {
      "cell_type": "code",
      "metadata": {
        "id": "c4m0LKRxHl7r"
      },
      "source": [
        "import tensorflow as tf\r\n",
        "from tensorflow.keras import datasets, layers, models\r\n",
        "import matplotlib.pyplot as plt\r\n",
        "import numpy as np"
      ],
      "execution_count": 1,
      "outputs": []
    },
    {
      "cell_type": "code",
      "metadata": {
        "colab": {
          "base_uri": "https://localhost:8080/"
        },
        "id": "fh9CaYO-H0I1",
        "outputId": "d7127714-3859-4597-8f87-87574c141524"
      },
      "source": [
        "(X_train, y_train), (X_test,y_test) = datasets.cifar10.load_data()\r\n",
        "X_train.shape"
      ],
      "execution_count": 2,
      "outputs": [
        {
          "output_type": "stream",
          "text": [
            "Downloading data from https://www.cs.toronto.edu/~kriz/cifar-10-python.tar.gz\n",
            "170500096/170498071 [==============================] - 4s 0us/step\n"
          ],
          "name": "stdout"
        },
        {
          "output_type": "execute_result",
          "data": {
            "text/plain": [
              "(50000, 32, 32, 3)"
            ]
          },
          "metadata": {
            "tags": []
          },
          "execution_count": 2
        }
      ]
    },
    {
      "cell_type": "code",
      "metadata": {
        "colab": {
          "base_uri": "https://localhost:8080/"
        },
        "id": "PxZ7x8TaH4Ns",
        "outputId": "19a30382-857b-47a7-ab15-473f0f29d23d"
      },
      "source": [
        "X_test.shape"
      ],
      "execution_count": 3,
      "outputs": [
        {
          "output_type": "execute_result",
          "data": {
            "text/plain": [
              "(10000, 32, 32, 3)"
            ]
          },
          "metadata": {
            "tags": []
          },
          "execution_count": 3
        }
      ]
    },
    {
      "cell_type": "code",
      "metadata": {
        "colab": {
          "base_uri": "https://localhost:8080/"
        },
        "id": "00N-l8BhH-Zj",
        "outputId": "52dbd694-d123-4af2-f14d-48cf494dd89c"
      },
      "source": [
        "\r\n",
        "y_train[:5]"
      ],
      "execution_count": 4,
      "outputs": [
        {
          "output_type": "execute_result",
          "data": {
            "text/plain": [
              "array([[6],\n",
              "       [9],\n",
              "       [9],\n",
              "       [4],\n",
              "       [1]], dtype=uint8)"
            ]
          },
          "metadata": {
            "tags": []
          },
          "execution_count": 4
        }
      ]
    },
    {
      "cell_type": "code",
      "metadata": {
        "colab": {
          "base_uri": "https://localhost:8080/"
        },
        "id": "ygS5SMt_IGRR",
        "outputId": "2fc83612-02f2-45e3-bb18-5b1e54eb3174"
      },
      "source": [
        "y_train = y_train.reshape(-1,)\r\n",
        "y_train[:5]"
      ],
      "execution_count": 5,
      "outputs": [
        {
          "output_type": "execute_result",
          "data": {
            "text/plain": [
              "array([6, 9, 9, 4, 1], dtype=uint8)"
            ]
          },
          "metadata": {
            "tags": []
          },
          "execution_count": 5
        }
      ]
    },
    {
      "cell_type": "code",
      "metadata": {
        "id": "Kky78ym6IQFX"
      },
      "source": [
        "y_test = y_test.reshape(-1,)\r\n"
      ],
      "execution_count": 6,
      "outputs": []
    },
    {
      "cell_type": "code",
      "metadata": {
        "id": "_GxlwPzuITQX"
      },
      "source": [
        "classes = [\"airplane\",\"automobile\",\"bird\",\"cat\",\"deer\",\"dog\",\"frog\",\"horse\",\"ship\",\"truck\"]"
      ],
      "execution_count": 7,
      "outputs": []
    },
    {
      "cell_type": "code",
      "metadata": {
        "id": "tg1ORM94IaeR"
      },
      "source": [
        "def plot_sample(X, y, index):\r\n",
        "    plt.figure(figsize = (15,2))\r\n",
        "    plt.imshow(X[index])\r\n",
        "    plt.xlabel(classes[y[index]])"
      ],
      "execution_count": 8,
      "outputs": []
    },
    {
      "cell_type": "code",
      "metadata": {
        "colab": {
          "base_uri": "https://localhost:8080/",
          "height": 173
        },
        "id": "eNlfOT75IddW",
        "outputId": "955b6fad-5c15-4ec3-d459-1ec88ed68d24"
      },
      "source": [
        "plot_sample(X_train, y_train, 4)"
      ],
      "execution_count": 25,
      "outputs": [
        {
          "output_type": "display_data",
          "data": {
            "image/png": "[encoded data removed]",
            "text/plain": [
              "<Figure size 1080x144 with 1 Axes>"
            ]
          },
          "metadata": {
            "tags": [],
            "needs_background": "light"
          }
        }
      ]
    },
    {
      "cell_type": "code",
      "metadata": {
        "colab": {
          "base_uri": "https://localhost:8080/",
          "height": 173
        },
        "id": "sY-fDh-JIhhf",
        "outputId": "2ecc39bc-1fc6-4461-c96b-de15a3aa089d"
      },
      "source": [
        "plot_sample(X_train, y_train, 3)"
      ],
      "execution_count": 10,
      "outputs": [
        {
          "output_type": "display_data",
          "data": {
            "image/png": "[encoded data removed]",
            "text/plain": [
              "<Figure size 1080x144 with 1 Axes>"
            ]
          },
          "metadata": {
            "tags": [],
            "needs_background": "light"
          }
        }
      ]
    },
    {
      "cell_type": "code",
      "metadata": {
        "id": "Osr0klj7IrtD"
      },
      "source": [
        "X_train = X_train / 255.0\r\n",
        "X_test = X_test / 255.0"
      ],
      "execution_count": 11,
      "outputs": []
    },
    {
      "cell_type": "code",
      "metadata": {
        "id": "oqB1k9DBI3Zr"
      },
      "source": [
        "cnn = models.Sequential([\r\n",
        "    layers.Conv2D(filters=32, kernel_size=(3, 3), activation='relu', input_shape=(32, 32, 3)),\r\n",
        "    layers.MaxPooling2D((2, 2)),\r\n",
        "    \r\n",
        "    layers.Conv2D(filters=64, kernel_size=(3, 3), activation='relu'),\r\n",
        "    layers.MaxPooling2D((2, 2)),\r\n",
        "    \r\n",
        "    layers.Flatten(),\r\n",
        "    layers.Dense(64, activation='relu'),\r\n",
        "    layers.Dense(10, activation='softmax')\r\n",
        "])"
      ],
      "execution_count": 12,
      "outputs": []
    },
    {
      "cell_type": "code",
      "metadata": {
        "id": "CocBeeyzI9dv"
      },
      "source": [
        "cnn.compile(optimizer='adam',\r\n",
        "              loss='sparse_categorical_crossentropy',\r\n",
        "              metrics=['accuracy'])"
      ],
      "execution_count": 13,
      "outputs": []
    },
    {
      "cell_type": "code",
      "metadata": {
        "colab": {
          "base_uri": "https://localhost:8080/"
        },
        "id": "x21ebr7vJAuR",
        "outputId": "011cf615-e74b-4bfd-b72b-04c9a1c15bb4"
      },
      "source": [
        "cnn.fit(X_train, y_train, epochs=10)"
      ],
      "execution_count": 14,
      "outputs": [
        {
          "output_type": "stream",
          "text": [
            "Epoch 1/10\n",
            "1563/1563 [==============================] - 61s 38ms/step - loss: 1.7285 - accuracy: 0.3660\n",
            "Epoch 2/10\n",
            "1563/1563 [==============================] - 60s 38ms/step - loss: 1.1660 - accuracy: 0.5893\n",
            "Epoch 3/10\n",
            "1563/1563 [==============================] - 60s 38ms/step - loss: 1.0104 - accuracy: 0.6504\n",
            "Epoch 4/10\n",
            "1563/1563 [==============================] - 60s 39ms/step - loss: 0.9204 - accuracy: 0.6806\n",
            "Epoch 5/10\n",
            "1563/1563 [==============================] - 60s 39ms/step - loss: 0.8612 - accuracy: 0.7004\n",
            "Epoch 6/10\n",
            "1563/1563 [==============================] - 60s 39ms/step - loss: 0.7967 - accuracy: 0.7217\n",
            "Epoch 7/10\n",
            "1563/1563 [==============================] - 61s 39ms/step - loss: 0.7628 - accuracy: 0.7324\n",
            "Epoch 8/10\n",
            "1563/1563 [==============================] - 60s 39ms/step - loss: 0.7024 - accuracy: 0.7571\n",
            "Epoch 9/10\n",
            "1563/1563 [==============================] - 60s 39ms/step - loss: 0.6629 - accuracy: 0.7718\n",
            "Epoch 10/10\n",
            "1563/1563 [==============================] - 60s 39ms/step - loss: 0.6319 - accuracy: 0.7812\n"
          ],
          "name": "stdout"
        },
        {
          "output_type": "execute_result",
          "data": {
            "text/plain": [
              "<tensorflow.python.keras.callbacks.History at 0x7f634eabb278>"
            ]
          },
          "metadata": {
            "tags": []
          },
          "execution_count": 14
        }
      ]
    },
    {
      "cell_type": "code",
      "metadata": {
        "colab": {
          "base_uri": "https://localhost:8080/"
        },
        "id": "0tRBJ9QVJDeM",
        "outputId": "75c4fe65-b4ac-429d-9c3a-7ea471f794d3"
      },
      "source": [
        "cnn.evaluate(X_test,y_test)"
      ],
      "execution_count": 15,
      "outputs": [
        {
          "output_type": "stream",
          "text": [
            "313/313 [==============================] - 4s 12ms/step - loss: 0.9025 - accuracy: 0.7024\n"
          ],
          "name": "stdout"
        },
        {
          "output_type": "execute_result",
          "data": {
            "text/plain": [
              "[0.9025372266769409, 0.7024000287055969]"
            ]
          },
          "metadata": {
            "tags": []
          },
          "execution_count": 15
        }
      ]
    },
    {
      "cell_type": "code",
      "metadata": {
        "colab": {
          "base_uri": "https://localhost:8080/"
        },
        "id": "aLdcQ4-3JVa1",
        "outputId": "e36c9d9c-5c5a-48ba-d820-93d71e846b89"
      },
      "source": [
        "y_pred = cnn.predict(X_test)\r\n",
        "y_pred[:5]"
      ],
      "execution_count": 16,
      "outputs": [
        {
          "output_type": "execute_result",
          "data": {
            "text/plain": [
              "array([[4.1660136e-03, 1.4677225e-04, 2.0022836e-04, 9.7705042e-01,\n",
              "        3.4593141e-03, 8.9214891e-03, 4.6636965e-03, 3.8983238e-05,\n",
              "        1.2192979e-03, 1.3372766e-04],\n",
              "       [1.3934421e-02, 1.9221416e-02, 1.5372461e-05, 4.6828998e-05,\n",
              "        1.8983214e-07, 7.5320713e-08, 4.8769925e-07, 4.7186312e-08,\n",
              "        9.6617806e-01, 6.0310442e-04],\n",
              "       [1.5094450e-01, 1.8113205e-01, 6.7352667e-04, 1.5244850e-02,\n",
              "        5.5761065e-04, 1.4209791e-04, 4.5156170e-04, 2.6269598e-04,\n",
              "        6.3274604e-01, 1.7845055e-02],\n",
              "       [7.7401918e-01, 6.6617003e-04, 7.5515434e-02, 3.7683523e-03,\n",
              "        2.1845359e-02, 2.8472617e-05, 9.3397787e-03, 1.5289900e-04,\n",
              "        1.1463809e-01, 2.6203001e-05],\n",
              "       [3.3611737e-05, 4.3092584e-04, 3.1168507e-02, 1.3104138e-01,\n",
              "        4.8300937e-01, 9.5711863e-03, 3.4443563e-01, 1.3775666e-05,\n",
              "        2.7614334e-04, 1.9412320e-05]], dtype=float32)"
            ]
          },
          "metadata": {
            "tags": []
          },
          "execution_count": 16
        }
      ]
    },
    {
      "cell_type": "code",
      "metadata": {
        "colab": {
          "base_uri": "https://localhost:8080/"
        },
        "id": "xYaAaFWIJgB5",
        "outputId": "3f22712c-edc2-4861-f54a-4d599f5ad63d"
      },
      "source": [
        "\r\n",
        "y_classes = [np.argmax(element) for element in y_pred]\r\n",
        "y_classes[:5]"
      ],
      "execution_count": 21,
      "outputs": [
        {
          "output_type": "execute_result",
          "data": {
            "text/plain": [
              "[3, 8, 8, 0, 4]"
            ]
          },
          "metadata": {
            "tags": []
          },
          "execution_count": 21
        }
      ]
    },
    {
      "cell_type": "code",
      "metadata": {
        "colab": {
          "base_uri": "https://localhost:8080/"
        },
        "id": "JyYzbW9fJrKf",
        "outputId": "6368dc97-7f16-4d7e-a690-f4797ed8b464"
      },
      "source": [
        "\r\n",
        "y_test[:9]"
      ],
      "execution_count": 22,
      "outputs": [
        {
          "output_type": "execute_result",
          "data": {
            "text/plain": [
              "array([3, 8, 8, 0, 6, 6, 1, 6, 3], dtype=uint8)"
            ]
          },
          "metadata": {
            "tags": []
          },
          "execution_count": 22
        }
      ]
    },
    {
      "cell_type": "code",
      "metadata": {
        "colab": {
          "base_uri": "https://localhost:8080/",
          "height": 173
        },
        "id": "PSbaxIlZKBsr",
        "outputId": "8a0b6f18-69f1-421f-df68-c06341e9845c"
      },
      "source": [
        "plot_sample(X_test, y_test,2)"
      ],
      "execution_count": 23,
      "outputs": [
        {
          "output_type": "display_data",
          "data": {
            "image/png": "[encoded data removed]",
            "text/plain": [
              "<Figure size 1080x144 with 1 Axes>"
            ]
          },
          "metadata": {
            "tags": [],
            "needs_background": "light"
          }
        }
      ]
    },
    {
      "cell_type": "code",
      "metadata": {
        "colab": {
          "base_uri": "https://localhost:8080/",
          "height": 35
        },
        "id": "2AdAOYwQKEKc",
        "outputId": "5f3b3ae8-405f-4529-d103-d73028fa5f4c"
      },
      "source": [
        "\r\n",
        "classes[y_classes[2]]"
      ],
      "execution_count": 24,
      "outputs": [
        {
          "output_type": "execute_result",
          "data": {
            "application/vnd.google.colaboratory.intrinsic+json": {
              "type": "string"
            },
            "text/plain": [
              "'ship'"
            ]
          },
          "metadata": {
            "tags": []
          },
          "execution_count": 24
        }
      ]
    },
    {
      "cell_type": "code",
      "metadata": {
        "id": "n0RS3ThEMyWv"
      },
      "source": [
        ""
      ],
      "execution_count": null,
      "outputs": []
    }
  ]
}